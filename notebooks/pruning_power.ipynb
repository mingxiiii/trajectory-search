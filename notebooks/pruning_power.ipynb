{
 "cells": [
  {
   "cell_type": "code",
   "execution_count": 16,
   "metadata": {},
   "outputs": [],
   "source": [
    "import numpy as np\n",
    "import pandas as pd\n",
    "import matplotlib.pyplot as plt\n",
    "import sys\n",
    "from os import path\n",
    "sys.path.append('/Users/mingxidai/Documents/project/trajectory-search/src/features')\n",
    "from helper import *\n",
    "import pickle\n",
    "from rtree.index import Rtree"
   ]
  },
  {
   "cell_type": "markdown",
   "metadata": {},
   "source": [
    "# Read in trajectory data"
   ]
  },
  {
   "cell_type": "markdown",
   "metadata": {},
   "source": [
    "### specify data and top k"
   ]
  },
  {
   "cell_type": "code",
   "execution_count": 118,
   "metadata": {},
   "outputs": [],
   "source": [
    "qgram_size = 35\n",
    "qgram_tag = 'q_%d' % qgram_size\n",
    "query = 'gps_20161003_trajectory'\n",
    "train = 'gps_20161002_trajectory'"
   ]
  },
  {
   "cell_type": "markdown",
   "metadata": {},
   "source": [
    "### load data"
   ]
  },
  {
   "cell_type": "code",
   "execution_count": 119,
   "metadata": {},
   "outputs": [
    {
     "data": {
      "text/plain": [
       "'../data/interim/gps_20161002_trajectory/rtree_id_dict_q_35.txt'"
      ]
     },
     "execution_count": 119,
     "metadata": {},
     "output_type": "execute_result"
    }
   ],
   "source": [
    "rtree_id_dict_path = '../data/interim/%s/rtree_id_dict_%s.txt' % (train, qgram_tag)\n",
    "rtree_id_dict_path"
   ]
  },
  {
   "cell_type": "code",
   "execution_count": 120,
   "metadata": {},
   "outputs": [],
   "source": [
    "rtree_id_dict = read_pickle(rtree_id_dict_path)"
   ]
  },
  {
   "cell_type": "code",
   "execution_count": 121,
   "metadata": {},
   "outputs": [
    {
     "data": {
      "text/plain": [
       "84169"
      ]
     },
     "execution_count": 121,
     "metadata": {},
     "output_type": "execute_result"
    }
   ],
   "source": [
    "counter = 0\n",
    "for key, value in rtree_id_dict.items():\n",
    "    counter += 1\n",
    "counter"
   ]
  },
  {
   "cell_type": "code",
   "execution_count": 122,
   "metadata": {},
   "outputs": [
    {
     "data": {
      "text/plain": [
       "'../data/stats/gps_20161003_trajectory/gps_20161002_trajectory/edr_count_q_35.txt'"
      ]
     },
     "execution_count": 122,
     "metadata": {},
     "output_type": "execute_result"
    }
   ],
   "source": [
    "edr_count_path = '../data/stats/%s/%s/edr_count_q_%d.txt' % (query, train, qgram_size)\n",
    "edr_count_path"
   ]
  },
  {
   "cell_type": "code",
   "execution_count": 123,
   "metadata": {},
   "outputs": [],
   "source": [
    "f = open(edr_count_path, 'r')\n",
    "edr_count = f.readlines()"
   ]
  },
  {
   "cell_type": "code",
   "execution_count": 124,
   "metadata": {},
   "outputs": [],
   "source": [
    "pruning_list=[]\n",
    "candidates_list=[]\n",
    "for row in edr_count[1:]:\n",
    "    row = row.strip()\n",
    "    row = row.split(' ')\n",
    "    pruning_list.append(int(row[1])/counter)\n",
    "    candidates_list.append(int(row[2])/counter)"
   ]
  },
  {
   "cell_type": "code",
   "execution_count": 125,
   "metadata": {},
   "outputs": [
    {
     "name": "stdout",
     "output_type": "stream",
     "text": [
      "pruning power: 98.7613%\n"
     ]
    }
   ],
   "source": [
    "print('pruning power: %.4f%%' % ((1-np.array(pruning_list).mean())*100))"
   ]
  },
  {
   "cell_type": "code",
   "execution_count": 126,
   "metadata": {},
   "outputs": [
    {
     "name": "stdout",
     "output_type": "stream",
     "text": [
      "candidate removal: 98.7303%\n"
     ]
    }
   ],
   "source": [
    "print('candidate removal: %.4f%%' % ((1-np.array(candidates_list).mean())*100))"
   ]
  }
 ],
 "metadata": {
  "kernelspec": {
   "display_name": "Python 3",
   "language": "python",
   "name": "python3"
  },
  "language_info": {
   "codemirror_mode": {
    "name": "ipython",
    "version": 3
   },
   "file_extension": ".py",
   "mimetype": "text/x-python",
   "name": "python",
   "nbconvert_exporter": "python",
   "pygments_lexer": "ipython3",
   "version": "3.6.8"
  }
 },
 "nbformat": 4,
 "nbformat_minor": 2
}
