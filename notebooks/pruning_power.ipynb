{
 "cells": [
  {
   "cell_type": "code",
   "execution_count": 1,
   "metadata": {},
   "outputs": [],
   "source": [
    "import numpy as np\n",
    "import pandas as pd\n",
    "import matplotlib.pyplot as plt\n",
    "import sys\n",
    "from os import path\n",
    "sys.path.append('/Users/mingxidai/Documents/project/trajectory-search/src/features')\n",
    "from helper import *\n",
    "import pickle\n",
    "from rtree.index import Rtree"
   ]
  },
  {
   "cell_type": "markdown",
   "metadata": {},
   "source": [
    "# Read in trajectory data"
   ]
  },
  {
   "cell_type": "markdown",
   "metadata": {},
   "source": [
    "### specify data and top k"
   ]
  },
  {
   "cell_type": "code",
   "execution_count": 2,
   "metadata": {},
   "outputs": [],
   "source": [
    "query = 'gps_20161003_trajectory'\n",
    "train = 'gps_20161002_trajectory'"
   ]
  },
  {
   "cell_type": "markdown",
   "metadata": {},
   "source": [
    "### load data"
   ]
  },
  {
   "cell_type": "code",
   "execution_count": 3,
   "metadata": {},
   "outputs": [
    {
     "data": {
      "text/plain": [
       "'../data/interim/gps_20161002_trajectory/rtree_id_dict.txt'"
      ]
     },
     "execution_count": 3,
     "metadata": {},
     "output_type": "execute_result"
    }
   ],
   "source": [
    "rtree_id_dict_path = '../data/interim/%s/rtree_id_dict.txt' % train\n",
    "rtree_id_dict_path"
   ]
  },
  {
   "cell_type": "code",
   "execution_count": 4,
   "metadata": {},
   "outputs": [
    {
     "data": {
      "text/plain": [
       "'../data/interim/gps_20161003_trajectory/gps_20161002_trajectory/candidate_trajectory.txt'"
      ]
     },
     "execution_count": 4,
     "metadata": {},
     "output_type": "execute_result"
    }
   ],
   "source": [
    "candidate_traj_path = '../data/interim/%s/%s/candidate_trajectory.txt' % (query, train)\n",
    "candidate_traj_path"
   ]
  },
  {
   "cell_type": "code",
   "execution_count": 22,
   "metadata": {},
   "outputs": [],
   "source": [
    "rtree_id_dict = read_pickle(rtree_id_dict_path)\n",
    "candidateList = read_pickle(candidate_traj_path)"
   ]
  },
  {
   "cell_type": "code",
   "execution_count": 14,
   "metadata": {},
   "outputs": [
    {
     "data": {
      "text/plain": [
       "84169"
      ]
     },
     "execution_count": 14,
     "metadata": {},
     "output_type": "execute_result"
    }
   ],
   "source": [
    "counter = 0\n",
    "for key, value in rtree_id_dict.items():\n",
    "    try:\n",
    "        int(key)\n",
    "        counter += 1\n",
    "    except ValueError:\n",
    "        pass\n",
    "counter"
   ]
  },
  {
   "cell_type": "code",
   "execution_count": 23,
   "metadata": {},
   "outputs": [
    {
     "data": {
      "text/plain": [
       "[0.030664496429801947,\n",
       " 0.0043127517256947336,\n",
       " 0.019757868098706173,\n",
       " 0.021100405137283323,\n",
       " 0.004372156019437085,\n",
       " 0.03293374045075978,\n",
       " 0.0067839703453765636,\n",
       " 0.01543323551426297,\n",
       " 0.005346386436811653,\n",
       " 0.0395751404911547,\n",
       " 0.01928263374876736,\n",
       " 0.023666670626952917,\n",
       " 0.032125842055863794,\n",
       " 0.01751238579524528,\n",
       " 0.002720716653399708,\n",
       " 0.023535981180719742,\n",
       " 9.504686998776271e-05,\n",
       " 0.025365633427984174,\n",
       " 0.002483099478430301,\n",
       " 0.008126507383953712,\n",
       " 0.009362116693794628,\n",
       " 0.03413370718435529,\n",
       " 0.018332165048889733,\n",
       " 0.03353966424693177,\n",
       " 0.0046454157706519025,\n",
       " 0.022229086718388004,\n",
       " 0.010811581461108008,\n",
       " 0.040311753733559864,\n",
       " 0.010478917416150839,\n",
       " 0.01507680975180886,\n",
       " 0.007781962480248072,\n",
       " 0.013461012962016895,\n",
       " 0.008447290570162412,\n",
       " 0.0029939764046145257,\n",
       " 0.026708170466561324,\n",
       " 0.011001675201083534,\n",
       " 0.003433568178307928,\n",
       " 0.024973565089284652,\n",
       " 0.01747674321899987,\n",
       " 0.01567085268923238,\n",
       " 0.0019128182585037247,\n",
       " 0.01398377074694959,\n",
       " 0.03239910180707862,\n",
       " 0.02839525240884411,\n",
       " 0.003564257624541102,\n",
       " 0.0026375506421604153,\n",
       " 0.009884874478727322,\n",
       " 0.005667169623020352,\n",
       " 0.005025603250602953,\n",
       " 0.015468878090508382]"
      ]
     },
     "execution_count": 23,
     "metadata": {},
     "output_type": "execute_result"
    }
   ],
   "source": [
    "candidates_list = []\n",
    "for item in candidateList:\n",
    "    query_key = item[0]\n",
    "    candidates_no=len(item[1])\n",
    "    candidates_list.append(candidates_no/counter)\n",
    "candidates_list"
   ]
  },
  {
   "cell_type": "code",
   "execution_count": 24,
   "metadata": {},
   "outputs": [
    {
     "data": {
      "text/plain": [
       "98.42999203982464"
      ]
     },
     "execution_count": 24,
     "metadata": {},
     "output_type": "execute_result"
    }
   ],
   "source": [
    "(1-np.array(candidates_list).mean())*100"
   ]
  }
 ],
 "metadata": {
  "kernelspec": {
   "display_name": "Python 3",
   "language": "python",
   "name": "python3"
  },
  "language_info": {
   "codemirror_mode": {
    "name": "ipython",
    "version": 3
   },
   "file_extension": ".py",
   "mimetype": "text/x-python",
   "name": "python",
   "nbconvert_exporter": "python",
   "pygments_lexer": "ipython3",
   "version": "3.6.8"
  }
 },
 "nbformat": 4,
 "nbformat_minor": 2
}
