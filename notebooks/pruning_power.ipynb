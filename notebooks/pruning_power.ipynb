{
 "cells": [
  {
   "cell_type": "code",
   "execution_count": 44,
   "metadata": {},
   "outputs": [],
   "source": [
    "import numpy as np\n",
    "import pandas as pd\n",
    "import matplotlib.pyplot as plt\n",
    "import sys\n",
    "from os import path\n",
    "sys.path.append('/Users/mingxidai/Documents/project/trajectory-search/src/features')\n",
    "from helper import *\n",
    "import pickle\n",
    "from rtree.index import Rtree"
   ]
  },
  {
   "cell_type": "markdown",
   "metadata": {},
   "source": [
    "# Read in trajectory data"
   ]
  },
  {
   "cell_type": "markdown",
   "metadata": {},
   "source": [
    "### specify data and top k"
   ]
  },
  {
   "cell_type": "code",
   "execution_count": 45,
   "metadata": {},
   "outputs": [],
   "source": [
    "query = 'gps_20161003_trajectory'\n",
    "train = 'gps_20161002_trajectory'"
   ]
  },
  {
   "cell_type": "markdown",
   "metadata": {},
   "source": [
    "### load data"
   ]
  },
  {
   "cell_type": "code",
   "execution_count": 47,
   "metadata": {},
   "outputs": [],
   "source": [
    "rtree_id_dict_path = '../data/interim/%s/rtree_id_dict.txt' % train\n",
    "candidate_traj_path = '../data/interim/%s/%s/candidate_trajectory.txt' % (query, train)\n",
    "rtree_path = '../data/interim/%s/my_rtree' % train"
   ]
  },
  {
   "cell_type": "code",
   "execution_count": 23,
   "metadata": {},
   "outputs": [
    {
     "name": "stdout",
     "output_type": "stream",
     "text": [
      "../data/interim/gps_20161002_trajectory/rtree_id_dict.txt\n",
      "../data/interim/gps_20161003_trajectory/gps_20161002_trajectory/candidate_trajectory.txt\n"
     ]
    }
   ],
   "source": [
    "rtree_id_dict = read_pickle(rtree_id_dict_path)\n",
    "candidateList = read_pickle(candidate_traj_path)"
   ]
  },
  {
   "cell_type": "code",
   "execution_count": 55,
   "metadata": {},
   "outputs": [
    {
     "data": {
      "text/plain": [
       "84169"
      ]
     },
     "execution_count": 55,
     "metadata": {},
     "output_type": "execute_result"
    }
   ],
   "source": [
    "counter = 0\n",
    "for key, value in rtree_id_dict.items():\n",
    "    try:\n",
    "        int(key)\n",
    "        counter += 1\n",
    "    except ValueError:\n",
    "        pass\n",
    "counter"
   ]
  },
  {
   "cell_type": "code",
   "execution_count": 60,
   "metadata": {},
   "outputs": [
    {
     "data": {
      "text/plain": [
       "[0.007401775000297021,\n",
       " 0.005132530979339187,\n",
       " 0.03757915622141168,\n",
       " 0.02528246741674488,\n",
       " 0.010692772873623305,\n",
       " 0.040680060354762446,\n",
       " 0.016645083106606947,\n",
       " 0.030842709311029,\n",
       " 0.014732264848103221,\n",
       " 0.01779752640520857,\n",
       " 0.006261212560443869,\n",
       " 0.007057230096591382,\n",
       " 0.004823628651878958,\n",
       " 0.01643122764913448,\n",
       " 0.02202711211966401,\n",
       " 0.020161817296154166,\n",
       " 0.021219213724768028,\n",
       " 0.01151255212726776,\n",
       " 0.03130606280221934,\n",
       " 0.02169444807470684,\n",
       " 0.025092373676769357,\n",
       " 8.316601123929237e-05,\n",
       " 0.021932065249676246,\n",
       " 0.013793677006974064,\n",
       " 0.03325452363696848,\n",
       " 0.01928263374876736,\n",
       " 0.026886383347788378,\n",
       " 0.03014173864486925,\n",
       " 0.012831327448347966,\n",
       " 0.0397771150898787,\n",
       " 0.002031626845988428,\n",
       " 0.011144245506065178,\n",
       " 0.017084674880300348,\n",
       " 0.005346386436811653,\n",
       " 0.0032672361558293435,\n",
       " 0.037864296831374974,\n",
       " 0.011274934952298352,\n",
       " 0.006475068017916335,\n",
       " 0.027527949720205776,\n",
       " 0.0028514060996328813,\n",
       " 0.003195951003338521,\n",
       " 0.008839358908861932,\n",
       " 0.035951478572871245,\n",
       " 0.006914659791609738,\n",
       " 0.004609773194406492,\n",
       " 0.04375720277061626,\n",
       " 0.003742470505768157,\n",
       " 0.012427378250899975,\n",
       " 0.02580522520167758,\n",
       " 0.018985612280055603]"
      ]
     },
     "execution_count": 60,
     "metadata": {},
     "output_type": "execute_result"
    }
   ],
   "source": [
    "candidates_list = []\n",
    "for item in candidateList:\n",
    "    query_key = item[0]\n",
    "    candidates_no=len(item[1])\n",
    "    candidates_list.append(candidates_no/counter)\n",
    "candidates_list"
   ]
  },
  {
   "cell_type": "code",
   "execution_count": 64,
   "metadata": {},
   "outputs": [
    {
     "data": {
      "text/plain": [
       "98.23709441718448"
      ]
     },
     "execution_count": 64,
     "metadata": {},
     "output_type": "execute_result"
    }
   ],
   "source": [
    "(1-np.array(candidates_list).mean())*100"
   ]
  }
 ],
 "metadata": {
  "kernelspec": {
   "display_name": "Python 3",
   "language": "python",
   "name": "python3"
  },
  "language_info": {
   "codemirror_mode": {
    "name": "ipython",
    "version": 3
   },
   "file_extension": ".py",
   "mimetype": "text/x-python",
   "name": "python",
   "nbconvert_exporter": "python",
   "pygments_lexer": "ipython3",
   "version": "3.6.8"
  }
 },
 "nbformat": 4,
 "nbformat_minor": 2
}
